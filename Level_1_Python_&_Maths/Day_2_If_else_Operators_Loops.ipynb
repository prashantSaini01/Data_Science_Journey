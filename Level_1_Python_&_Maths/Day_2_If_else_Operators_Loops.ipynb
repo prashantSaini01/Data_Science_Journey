{
  "nbformat": 4,
  "nbformat_minor": 0,
  "metadata": {
    "colab": {
      "provenance": [],
      "gpuType": "V28"
    },
    "kernelspec": {
      "name": "python3",
      "display_name": "Python 3"
    },
    "language_info": {
      "name": "python"
    },
    "accelerator": "TPU"
  },
  "cells": [
    {
      "cell_type": "markdown",
      "source": [
        "## Operators in Python"
      ],
      "metadata": {
        "id": "Z5I9QzWu1JrO"
      }
    },
    {
      "cell_type": "code",
      "execution_count": 1,
      "metadata": {
        "colab": {
          "base_uri": "https://localhost:8080/"
        },
        "id": "LwRB0lh20CBj",
        "outputId": "4fa6d583-c6e7-466f-9d12-b83663b28669"
      },
      "outputs": [
        {
          "output_type": "stream",
          "name": "stdout",
          "text": [
            "11\n",
            "-1\n",
            "30\n",
            "0.8333333333333334\n",
            "0\n",
            "1\n",
            "15625\n"
          ]
        }
      ],
      "source": [
        "# Arithmetic Operators\n",
        "\n",
        "print(5+6)\n",
        "print(5-6)\n",
        "print(5*6)\n",
        "print(5/6)\n",
        "print(5//6)\n",
        "print(6%5)\n",
        "print(5**6)"
      ]
    },
    {
      "cell_type": "code",
      "source": [
        "# Relational Operators\n",
        "\n",
        "print(5>6)\n",
        "print(5<6)\n",
        "print(5>=6)\n",
        "print(5<=6)\n",
        "print(5==6)\n",
        "print(5!=6)"
      ],
      "metadata": {
        "colab": {
          "base_uri": "https://localhost:8080/"
        },
        "id": "eE6F1bHR1zfj",
        "outputId": "57ed67d3-8ed4-47a7-b2ff-92ee0d325e08"
      },
      "execution_count": 2,
      "outputs": [
        {
          "output_type": "stream",
          "name": "stdout",
          "text": [
            "False\n",
            "True\n",
            "False\n",
            "True\n",
            "False\n",
            "True\n"
          ]
        }
      ]
    },
    {
      "cell_type": "code",
      "source": [
        "# Logical Operators\n",
        "# AND, OR, NOT\n",
        "\n",
        "print(True and False)\n",
        "print(True or False)\n",
        "print(not True)\n"
      ],
      "metadata": {
        "colab": {
          "base_uri": "https://localhost:8080/"
        },
        "id": "2SDIS4sU2Eyf",
        "outputId": "7dd7e7f4-951a-4081-a36e-61f32ba112e5"
      },
      "execution_count": 3,
      "outputs": [
        {
          "output_type": "stream",
          "name": "stdout",
          "text": [
            "False\n",
            "True\n",
            "False\n"
          ]
        }
      ]
    },
    {
      "cell_type": "code",
      "source": [
        "# Bitwise Operator\n",
        "\n",
        "print(5&6)\n",
        "print(5|6)\n",
        "print(~5)\n",
        "print(5^6)"
      ],
      "metadata": {
        "colab": {
          "base_uri": "https://localhost:8080/"
        },
        "id": "gLLtVoK72SLN",
        "outputId": "158732a5-9cfd-49e4-d20e-d34b7854444b"
      },
      "execution_count": 4,
      "outputs": [
        {
          "output_type": "stream",
          "name": "stdout",
          "text": [
            "4\n",
            "7\n",
            "-6\n",
            "3\n"
          ]
        }
      ]
    },
    {
      "cell_type": "code",
      "source": [
        "# Assigment Operator\n",
        "\n",
        "a=5\n",
        "a+=5\n",
        "print(a)"
      ],
      "metadata": {
        "colab": {
          "base_uri": "https://localhost:8080/"
        },
        "id": "nsWsSz4L2h7y",
        "outputId": "9d7ee082-7144-4007-e21e-78bf22569bf0"
      },
      "execution_count": 5,
      "outputs": [
        {
          "output_type": "stream",
          "name": "stdout",
          "text": [
            "10\n"
          ]
        }
      ]
    },
    {
      "cell_type": "code",
      "source": [
        "# Membership Operator\n",
        "# in, not in\n",
        "\n",
        "print('a' in 'apple')\n",
        "print('a' not in 'apple')"
      ],
      "metadata": {
        "colab": {
          "base_uri": "https://localhost:8080/"
        },
        "id": "Ev2OFEma3gwa",
        "outputId": "a30edde5-b7e3-455f-c54b-41ac41aab0be"
      },
      "execution_count": 6,
      "outputs": [
        {
          "output_type": "stream",
          "name": "stdout",
          "text": [
            "True\n",
            "False\n"
          ]
        }
      ]
    },
    {
      "cell_type": "code",
      "source": [
        "# program to find the sum of three digit number entered by the\n",
        "\n",
        "num = input(\"Enter a number\")\n",
        "sum = 0\n",
        "for i in num:\n",
        "    sum += int(i)\n",
        "print(sum)\n",
        "\n",
        "\n"
      ],
      "metadata": {
        "colab": {
          "base_uri": "https://localhost:8080/"
        },
        "id": "jI1wvdnW36sj",
        "outputId": "20c4284a-47f5-4995-d46b-cc21551394c1"
      },
      "execution_count": 7,
      "outputs": [
        {
          "output_type": "stream",
          "name": "stdout",
          "text": [
            "Enter a number\n",
            "0\n"
          ]
        }
      ]
    },
    {
      "cell_type": "markdown",
      "source": [
        "## If else in python"
      ],
      "metadata": {
        "id": "HHm3Vlfm9vfp"
      }
    },
    {
      "cell_type": "code",
      "source": [
        "# login program and indentation\n",
        "\n",
        "#email-> xyz@gmail.com\n",
        "#passwod ->1234\n",
        "\n",
        "email = input(\"Enter a email\")\n",
        "password = input(\"Enter a password\")\n",
        "\n",
        "if email == \"xyz@gmail.com\" and password == \"1234\":\n",
        "    print(\"login successful\")\n",
        "elif email== \"xyz@gmail.com\":\n",
        "    print(\"password is incorrect\")\n",
        "elif password == \"1234\":\n",
        "    print(\"email is incorrect\")\n",
        "else:\n",
        "    print(\"login failed\")\n",
        "\n"
      ],
      "metadata": {
        "colab": {
          "base_uri": "https://localhost:8080/"
        },
        "id": "YsPuyzr59N0T",
        "outputId": "a2a78568-a949-4242-d149-dbc875a4fd20"
      },
      "execution_count": 8,
      "outputs": [
        {
          "output_type": "stream",
          "name": "stdout",
          "text": [
            "Enter a email\n",
            "Enter a password\n",
            "login failed\n"
          ]
        }
      ]
    },
    {
      "cell_type": "code",
      "source": [
        "# program of min of three numbes\n",
        "a = int(input(\"Enter a number\"))\n",
        "b = int(input(\"Enter a number\"))\n",
        "c = int(input(\"Enter a number\"))\n",
        "\n",
        "if a<b and a<c:\n",
        "    print(a)\n",
        "elif b<a and b<c:\n",
        "    print(b)\n",
        "else:\n",
        "    print(c)"
      ],
      "metadata": {
        "colab": {
          "base_uri": "https://localhost:8080/"
        },
        "id": "QCM04xDS_cqY",
        "outputId": "003729ba-09c6-4bdc-b775-3d6db81cfeac"
      },
      "execution_count": 9,
      "outputs": [
        {
          "output_type": "stream",
          "name": "stdout",
          "text": [
            "Enter a number1\n",
            "Enter a number5\n",
            "Enter a number8\n",
            "1\n"
          ]
        }
      ]
    },
    {
      "cell_type": "code",
      "source": [
        "# Menu Driven Calculator Program using if-elif else\n",
        "\n",
        "print(\"Select operation.\")\n",
        "print(\"1.Add\")\n",
        "print(\"2.Subtract\")\n",
        "print(\"3.Multiply\")\n",
        "print(\"4.Divide\")\n",
        "\n",
        "choice = input(\"Enter choice(1/2/3/4):\")\n",
        "\n",
        "num1 = int(input(\"Enter first number:\"))\n",
        "num2 = int(input(\"Enter second number:\"))\n",
        "\n",
        "if choice == '1':\n",
        "    print(num1+num2)\n",
        "\n",
        "elif choice == '2':\n",
        "    print(num1-num2)\n",
        "\n",
        "elif choice == '3':\n",
        "    print(num1*num2)\n",
        "\n",
        "elif choice == '4':\n",
        "    print(num1/num2)\n",
        "\n",
        "else:\n",
        "    print(\"Invalid input\")\n",
        "\n",
        "\n",
        "\n"
      ],
      "metadata": {
        "colab": {
          "base_uri": "https://localhost:8080/"
        },
        "id": "FWXEnrfnBj2i",
        "outputId": "48ac233e-0df3-4f9f-f1e3-763d158b06dd"
      },
      "execution_count": 10,
      "outputs": [
        {
          "output_type": "stream",
          "name": "stdout",
          "text": [
            "Select operation.\n",
            "1.Add\n",
            "2.Subtract\n",
            "3.Multiply\n",
            "4.Divide\n",
            "Enter choice(1/2/3/4):4\n",
            "Enter first number:4\n",
            "Enter second number:5\n",
            "0.8\n"
          ]
        }
      ]
    },
    {
      "cell_type": "markdown",
      "source": [
        "## Modules in Python\n"
      ],
      "metadata": {
        "id": "MembDAy3CvsV"
      }
    },
    {
      "cell_type": "code",
      "source": [
        "# math\n",
        "\n",
        "import math\n",
        "\n",
        "math.ceil(3.7)\n",
        "math.floor(3.7)\n",
        "math.pi\n",
        "math.e\n",
        "math.factorial(5)\n",
        "math.fsum([1,2,3,4])\n",
        "math.gcd(10,20)\n",
        "math.lcm(10,20)\n",
        "math.pow(2,3)\n",
        "math.hypot(3,4)\n",
        "math.degrees(math.pi/2)\n",
        "math.radians(180)\n",
        "math.sin(math.pi/2)\n",
        "math.cos(math.pi)\n",
        "math.tan(math.pi/2)\n",
        "math.asin(1)\n",
        "math.acos(1)\n",
        "math.atan(1)\n",
        "math.sinh(math.pi/2)\n",
        "math.cosh(math.pi)\n",
        "math.tanh(math.pi/2)\n",
        "math.asinh(1)\n",
        "math.acosh(1)\n",
        "math.sqrt(16)\n",
        "\n",
        "\n",
        "\n",
        "\n"
      ],
      "metadata": {
        "colab": {
          "base_uri": "https://localhost:8080/"
        },
        "id": "9zF0g2XqCyCF",
        "outputId": "6c291998-312e-4a90-ccfe-5a6d5cdb9502"
      },
      "execution_count": 11,
      "outputs": [
        {
          "output_type": "execute_result",
          "data": {
            "text/plain": [
              "4.0"
            ]
          },
          "metadata": {},
          "execution_count": 11
        }
      ]
    },
    {
      "cell_type": "code",
      "source": [
        "# keyword\n",
        "\n",
        "import keyword\n",
        "\n",
        "print(keyword.kwlist)\n"
      ],
      "metadata": {
        "colab": {
          "base_uri": "https://localhost:8080/"
        },
        "id": "zL03FCAGDbh3",
        "outputId": "8f4acaee-8219-4c00-a54b-fc8b26f04e0f"
      },
      "execution_count": 12,
      "outputs": [
        {
          "output_type": "stream",
          "name": "stdout",
          "text": [
            "['False', 'None', 'True', 'and', 'as', 'assert', 'async', 'await', 'break', 'class', 'continue', 'def', 'del', 'elif', 'else', 'except', 'finally', 'for', 'from', 'global', 'if', 'import', 'in', 'is', 'lambda', 'nonlocal', 'not', 'or', 'pass', 'raise', 'return', 'try', 'while', 'with', 'yield']\n"
          ]
        }
      ]
    },
    {
      "cell_type": "code",
      "source": [
        "# random\n",
        "import random\n",
        "\n",
        "random.random()\n",
        "random.randint(1,10)\n",
        "random.randrange(1,10,2)"
      ],
      "metadata": {
        "colab": {
          "base_uri": "https://localhost:8080/"
        },
        "id": "Wi2KjTDfDwzT",
        "outputId": "4e4b7f11-2183-4129-e076-25a3f140c288"
      },
      "execution_count": 13,
      "outputs": [
        {
          "output_type": "execute_result",
          "data": {
            "text/plain": [
              "7"
            ]
          },
          "metadata": {},
          "execution_count": 13
        }
      ]
    },
    {
      "cell_type": "code",
      "source": [
        "# datetime\n",
        "\n",
        "import datetime\n",
        "\n",
        "datetime.datetime.now()\n",
        "datetime.datetime.now().year\n",
        "datetime.datetime.now().month\n",
        "datetime.datetime.now().day\n",
        "datetime.datetime.now().hour\n",
        "datetime.datetime.now().minute\n",
        "datetime.datetime.now().second"
      ],
      "metadata": {
        "colab": {
          "base_uri": "https://localhost:8080/"
        },
        "id": "SL8pg2T5D2FK",
        "outputId": "0e452ead-d299-42a0-99e3-38109bb4d791"
      },
      "execution_count": 14,
      "outputs": [
        {
          "output_type": "execute_result",
          "data": {
            "text/plain": [
              "6"
            ]
          },
          "metadata": {},
          "execution_count": 14
        }
      ]
    },
    {
      "cell_type": "code",
      "source": [
        "# To know about all modules\n",
        "\n",
        "# help(\"modules\")"
      ],
      "metadata": {
        "id": "IJWMli3SD9y0"
      },
      "execution_count": 15,
      "outputs": []
    },
    {
      "cell_type": "markdown",
      "source": [
        "## Loops in Python\n"
      ],
      "metadata": {
        "id": "W8iLjFUBEVab"
      }
    },
    {
      "cell_type": "code",
      "source": [
        "# While loop\n",
        "\n",
        "# program to print the table\n",
        "\n",
        "num = int(input(\"Enter a number\"))\n",
        "\n",
        "i=1\n",
        "\n",
        "while (i<11):\n",
        "  print(num,\"x\",i,\"=\",num*i)\n",
        "  i=i+1"
      ],
      "metadata": {
        "colab": {
          "base_uri": "https://localhost:8080/"
        },
        "id": "65iI6z0nEMLJ",
        "outputId": "7fd05127-48ef-4902-ef4c-0908452ca0e5"
      },
      "execution_count": 16,
      "outputs": [
        {
          "output_type": "stream",
          "name": "stdout",
          "text": [
            "Enter a number5\n",
            "5 x 1 = 5\n",
            "5 x 2 = 10\n",
            "5 x 3 = 15\n",
            "5 x 4 = 20\n",
            "5 x 5 = 25\n",
            "5 x 6 = 30\n",
            "5 x 7 = 35\n",
            "5 x 8 = 40\n",
            "5 x 9 = 45\n",
            "5 x 10 = 50\n"
          ]
        }
      ]
    },
    {
      "cell_type": "code",
      "source": [
        "# Guessing a number game\n",
        "\n",
        "import random\n",
        "jackpot = random.randint(1,100)\n",
        "\n",
        "guess = int(input(\"Guess a number\"))\n",
        "\n",
        "count = 0\n",
        "\n",
        "win = False\n",
        "\n",
        "while not win:\n",
        "  if guess > jackpot:\n",
        "    print(\"Too high\")\n",
        "    guess = int(input(\"Guess again\"))\n",
        "    count += 1\n",
        "  elif guess < jackpot:\n",
        "    print(\"Too low\")\n",
        "    guess = int(input(\"Guess again\"))\n",
        "    count += 1\n",
        "  else:\n",
        "    win = True\n",
        "    print(\"Jackpot\")\n",
        "\n",
        "print(f\"You win but take {count} chances\")"
      ],
      "metadata": {
        "colab": {
          "base_uri": "https://localhost:8080/"
        },
        "id": "ZTMvohAuFGW_",
        "outputId": "d7a3dad6-0eac-4a32-c7a8-9473b5cef72c"
      },
      "execution_count": 20,
      "outputs": [
        {
          "output_type": "stream",
          "name": "stdout",
          "text": [
            "Guess a number1\n",
            "Too low\n",
            "Guess again100\n",
            "Too high\n",
            "Guess again50\n",
            "Too low\n",
            "Guess again75\n",
            "Too high\n",
            "Guess again65\n",
            "Too low\n",
            "Guess again70\n",
            "Too low\n",
            "Guess again72\n",
            "Jackpot\n",
            "You win but take 6 chances\n"
          ]
        }
      ]
    },
    {
      "cell_type": "code",
      "source": [
        "# For loop\n",
        "\n",
        "for i in range(1,11):\n",
        "  print(i)\n",
        "\n",
        "for i in \"Dubai\":\n",
        "  print(i)"
      ],
      "metadata": {
        "colab": {
          "base_uri": "https://localhost:8080/"
        },
        "id": "3hWw2LxSHvRK",
        "outputId": "4aee4bf6-2533-4745-8f2f-478ae9afe56b"
      },
      "execution_count": 22,
      "outputs": [
        {
          "output_type": "stream",
          "name": "stdout",
          "text": [
            "1\n",
            "2\n",
            "3\n",
            "4\n",
            "5\n",
            "6\n",
            "7\n",
            "8\n",
            "9\n",
            "10\n",
            "D\n",
            "u\n",
            "b\n",
            "a\n",
            "i\n"
          ]
        }
      ]
    },
    {
      "cell_type": "code",
      "source": [
        "# Program -> The Current Population of a town is 10000. The population  of the town is increasing at the rate of 10% per year. You have to write a program to find out the population at the end of each of the last 10 years.\n",
        "\n",
        "# Initial population\n",
        "current_population = 10000\n",
        "rate_of_increase = 1.10  # 10% increase per year\n",
        "\n",
        "# List to store population for each year\n",
        "populations = []\n",
        "\n",
        "# Calculate the population for each of the last 10 years\n",
        "for year in range(10):\n",
        "    populations.append(current_population)\n",
        "    current_population /= rate_of_increase\n",
        "\n",
        "# Print the population for each of the last 10 years\n",
        "for i in range(10):\n",
        "    print(f\"Year {10 - i}: Population = {populations[i]:.2f}\")\n"
      ],
      "metadata": {
        "colab": {
          "base_uri": "https://localhost:8080/"
        },
        "id": "5ENCAeI3HLfB",
        "outputId": "fb6cc993-2439-4d18-e613-f45d23bad24a"
      },
      "execution_count": 25,
      "outputs": [
        {
          "output_type": "stream",
          "name": "stdout",
          "text": [
            "Year 10: Population = 10000.00\n",
            "Year 9: Population = 9090.91\n",
            "Year 8: Population = 8264.46\n",
            "Year 7: Population = 7513.15\n",
            "Year 6: Population = 6830.13\n",
            "Year 5: Population = 6209.21\n",
            "Year 4: Population = 5644.74\n",
            "Year 3: Population = 5131.58\n",
            "Year 2: Population = 4665.07\n",
            "Year 1: Population = 4240.98\n"
          ]
        }
      ]
    },
    {
      "cell_type": "code",
      "source": [],
      "metadata": {
        "colab": {
          "base_uri": "https://localhost:8080/"
        },
        "id": "o97G1r7JJwQO",
        "outputId": "e59aa760-d446-451d-9b45-55c588b6d5d9"
      },
      "execution_count": 24,
      "outputs": [
        {
          "output_type": "stream",
          "name": "stdout",
          "text": [
            "Year 10: Population = 10000.00\n",
            "Year 9: Population = 9090.91\n",
            "Year 8: Population = 8264.46\n",
            "Year 7: Population = 7513.15\n",
            "Year 6: Population = 6830.13\n",
            "Year 5: Population = 6209.21\n",
            "Year 4: Population = 5644.74\n",
            "Year 3: Population = 5131.58\n",
            "Year 2: Population = 4665.07\n",
            "Year 1: Population = 4240.98\n"
          ]
        }
      ]
    },
    {
      "cell_type": "code",
      "source": [],
      "metadata": {
        "id": "XZlPIN6zKjvv"
      },
      "execution_count": null,
      "outputs": []
    }
  ]
}