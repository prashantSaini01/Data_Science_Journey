{
  "nbformat": 4,
  "nbformat_minor": 0,
  "metadata": {
    "colab": {
      "provenance": []
    },
    "kernelspec": {
      "name": "python3",
      "display_name": "Python 3"
    },
    "language_info": {
      "name": "python"
    }
  },
  "cells": [
    {
      "cell_type": "code",
      "execution_count": 1,
      "metadata": {
        "colab": {
          "base_uri": "https://localhost:8080/"
        },
        "id": "a2Rq-MV5aA05",
        "outputId": "71d4966a-e5eb-4ca4-9242-05a8b6eeeec7"
      },
      "outputs": [
        {
          "output_type": "stream",
          "name": "stdout",
          "text": [
            "Hello Prashant Excited to become Data Scientist\n"
          ]
        }
      ],
      "source": [
        "print(\"Hello Prashant Excited to become Data Scientist\")"
      ]
    },
    {
      "cell_type": "markdown",
      "source": [
        "## 1. Python Output"
      ],
      "metadata": {
        "id": "Nsn7CA-FcL4m"
      }
    },
    {
      "cell_type": "code",
      "source": [
        "print(\"Hello World\")\n",
        "# Python is a case sensitive language\n",
        "\n",
        "#sep\n",
        "print(\"Hello\",2,4.5,True,sep='/')\n",
        "\n",
        "#end\n",
        "print(\"Hello\",end='-')\n",
        "print(\"World\")"
      ],
      "metadata": {
        "colab": {
          "base_uri": "https://localhost:8080/"
        },
        "id": "vYT2syqFaViI",
        "outputId": "9d37ba7f-235c-4842-a56a-eb487ec4df31"
      },
      "execution_count": 7,
      "outputs": [
        {
          "output_type": "stream",
          "name": "stdout",
          "text": [
            "Hello World\n",
            "Hello/2/4.5/True\n",
            "Hello-World\n"
          ]
        }
      ]
    },
    {
      "cell_type": "markdown",
      "source": [
        "## 2. Data Types"
      ],
      "metadata": {
        "id": "jBqsEdohcjoQ"
      }
    },
    {
      "cell_type": "code",
      "source": [
        "# 1) Integers -->1e308\n",
        "print(8)"
      ],
      "metadata": {
        "colab": {
          "base_uri": "https://localhost:8080/"
        },
        "id": "hd-iYBK6caIo",
        "outputId": "14935468-b96d-4dfd-8022-85e00531ce67"
      },
      "execution_count": 8,
      "outputs": [
        {
          "output_type": "stream",
          "name": "stdout",
          "text": [
            "8\n"
          ]
        }
      ]
    },
    {
      "cell_type": "code",
      "source": [
        "# 2) Decimal/Float --> 1.7e308\n",
        "print(8.55)"
      ],
      "metadata": {
        "colab": {
          "base_uri": "https://localhost:8080/"
        },
        "id": "Py9lHL2Yc9v3",
        "outputId": "dd2a4b62-70ea-4d64-b6a1-52d62079b650"
      },
      "execution_count": 9,
      "outputs": [
        {
          "output_type": "stream",
          "name": "stdout",
          "text": [
            "8.55\n"
          ]
        }
      ]
    },
    {
      "cell_type": "code",
      "source": [
        "# 3) Boolean\n",
        "print(True)\n",
        "print(False)"
      ],
      "metadata": {
        "colab": {
          "base_uri": "https://localhost:8080/"
        },
        "id": "lYDUprcbeHqD",
        "outputId": "0eb608e5-a01d-4460-8b2c-e2de8c994631"
      },
      "execution_count": 10,
      "outputs": [
        {
          "output_type": "stream",
          "name": "stdout",
          "text": [
            "True\n",
            "False\n"
          ]
        }
      ]
    },
    {
      "cell_type": "code",
      "source": [
        "# 4) String/Text\n",
        "print(\"Hello\")"
      ],
      "metadata": {
        "colab": {
          "base_uri": "https://localhost:8080/"
        },
        "id": "bNeNe7koeVhX",
        "outputId": "2d2185dd-e638-41b3-de0f-714bf316a517"
      },
      "execution_count": 11,
      "outputs": [
        {
          "output_type": "stream",
          "name": "stdout",
          "text": [
            "Hello\n"
          ]
        }
      ]
    },
    {
      "cell_type": "code",
      "source": [
        "# 5) Complex\n",
        "print(1+2j)"
      ],
      "metadata": {
        "colab": {
          "base_uri": "https://localhost:8080/"
        },
        "id": "BPqUIArtednl",
        "outputId": "d1dd162a-7002-4f7c-e69b-5dda23c1adb0"
      },
      "execution_count": 12,
      "outputs": [
        {
          "output_type": "stream",
          "name": "stdout",
          "text": [
            "(1+2j)\n"
          ]
        }
      ]
    },
    {
      "cell_type": "code",
      "source": [
        "# 6) List\n",
        "print([1,2,3,4])"
      ],
      "metadata": {
        "colab": {
          "base_uri": "https://localhost:8080/"
        },
        "id": "ub3ItOIYekFA",
        "outputId": "bf0fd03a-f5cd-4acc-912a-c95e59c6c217"
      },
      "execution_count": 13,
      "outputs": [
        {
          "output_type": "stream",
          "name": "stdout",
          "text": [
            "[1, 2, 3, 4]\n"
          ]
        }
      ]
    },
    {
      "cell_type": "code",
      "source": [
        "# 7) Tuple\n",
        "print((1,2,3,4))"
      ],
      "metadata": {
        "colab": {
          "base_uri": "https://localhost:8080/"
        },
        "id": "d1n92nfOeuDR",
        "outputId": "acd3b22b-8ea7-4fde-ecc3-ae281b54691a"
      },
      "execution_count": 14,
      "outputs": [
        {
          "output_type": "stream",
          "name": "stdout",
          "text": [
            "(1, 2, 3, 4)\n"
          ]
        }
      ]
    },
    {
      "cell_type": "code",
      "source": [
        "# 8) Set\n",
        "print({1,2,3,4})"
      ],
      "metadata": {
        "colab": {
          "base_uri": "https://localhost:8080/"
        },
        "id": "sYtKG_c4eye0",
        "outputId": "2f63c00c-f3af-4a2c-cfef-31c70c986d19"
      },
      "execution_count": 15,
      "outputs": [
        {
          "output_type": "stream",
          "name": "stdout",
          "text": [
            "{1, 2, 3, 4}\n"
          ]
        }
      ]
    },
    {
      "cell_type": "code",
      "source": [
        "# 9) Dictionary\n",
        "print({\"Name\":\"Prashant\",\"Age\":21})\n",
        "\n",
        "# type()--> help to check which datatype\n",
        "type(\"str\")"
      ],
      "metadata": {
        "colab": {
          "base_uri": "https://localhost:8080/"
        },
        "id": "_xyQ9PIBe3Vx",
        "outputId": "b9f8b98d-41bf-4604-975a-bfea47049cf7"
      },
      "execution_count": 17,
      "outputs": [
        {
          "output_type": "stream",
          "name": "stdout",
          "text": [
            "{'Name': 'Prashant', 'Age': 21}\n"
          ]
        },
        {
          "output_type": "execute_result",
          "data": {
            "text/plain": [
              "str"
            ]
          },
          "metadata": {},
          "execution_count": 17
        }
      ]
    },
    {
      "cell_type": "markdown",
      "source": [
        "## 3. Variables"
      ],
      "metadata": {
        "id": "EJnIrOKifMCR"
      }
    },
    {
      "cell_type": "code",
      "source": [
        "name = \"Prashant\"\n",
        "age = 21\n",
        "print(name)\n",
        "print(age)\n",
        "\n",
        "a,b,c=1,2,3\n",
        "print(a,b,c)\n",
        "\n",
        "a=b=c=5\n",
        "print(a,b,c)"
      ],
      "metadata": {
        "colab": {
          "base_uri": "https://localhost:8080/"
        },
        "id": "LORmLMH0fKbo",
        "outputId": "748f2ad0-d858-4250-d1d9-3621097eb5dd"
      },
      "execution_count": 5,
      "outputs": [
        {
          "output_type": "stream",
          "name": "stdout",
          "text": [
            "Prashant\n",
            "21\n",
            "1 2 3\n",
            "5 5 5\n"
          ]
        }
      ]
    },
    {
      "cell_type": "code",
      "source": [
        "# Dynamic Typing v/s Static typing\n",
        "a=5\n",
        "\n",
        "# Dynamic Binding v/s Static typing\n",
        "print(type(a))\n",
        "a=\"Prashant\"\n",
        "print(type(a))\n",
        "\n",
        "#comments -> unexcecutable lines of code"
      ],
      "metadata": {
        "colab": {
          "base_uri": "https://localhost:8080/"
        },
        "id": "C3ajpIAfe8nV",
        "outputId": "94509553-2013-4a32-96e7-bd0036a2a8f2"
      },
      "execution_count": 7,
      "outputs": [
        {
          "output_type": "stream",
          "name": "stdout",
          "text": [
            "<class 'int'>\n",
            "<class 'str'>\n"
          ]
        }
      ]
    },
    {
      "cell_type": "markdown",
      "source": [
        "## 4. Keywords & Identifiers"
      ],
      "metadata": {
        "id": "XxccLW1n6H9j"
      }
    },
    {
      "cell_type": "code",
      "source": [
        "# reserved words -> keywords"
      ],
      "metadata": {
        "id": "LXLs78Ee5mnN"
      },
      "execution_count": 8,
      "outputs": []
    },
    {
      "cell_type": "code",
      "source": [
        "# Identifers -> variables,classes -> naming convention rules"
      ],
      "metadata": {
        "id": "QwiIuQUj7vSu"
      },
      "execution_count": 9,
      "outputs": []
    },
    {
      "cell_type": "markdown",
      "source": [
        "## 5. Input"
      ],
      "metadata": {
        "id": "Rj3IRXPX8IPX"
      }
    },
    {
      "cell_type": "code",
      "source": [
        "# Static Vs Dynamic\n",
        "\n",
        "input(\"Write a message\") #input always returns string"
      ],
      "metadata": {
        "colab": {
          "base_uri": "https://localhost:8080/",
          "height": 53
        },
        "id": "ds3IwUQe8GkX",
        "outputId": "b87a805c-1390-4780-c941-109d85769ba7"
      },
      "execution_count": 11,
      "outputs": [
        {
          "name": "stdout",
          "output_type": "stream",
          "text": [
            "Write a message\"hey, Whatspp\"\n"
          ]
        },
        {
          "output_type": "execute_result",
          "data": {
            "text/plain": [
              "'\"hey, Whatspp\"'"
            ],
            "application/vnd.google.colaboratory.intrinsic+json": {
              "type": "string"
            }
          },
          "metadata": {},
          "execution_count": 11
        }
      ]
    },
    {
      "cell_type": "code",
      "source": [
        "first_num = int(input(\"Enter first number\"))\n",
        "second_num = int(input(\"Enter second number\"))\n",
        "print(first_num + second_num)"
      ],
      "metadata": {
        "colab": {
          "base_uri": "https://localhost:8080/"
        },
        "id": "ripRaLfA8jsj",
        "outputId": "85f85437-a59d-46e8-b360-afce0a96c4fe"
      },
      "execution_count": 12,
      "outputs": [
        {
          "output_type": "stream",
          "name": "stdout",
          "text": [
            "Enter first number4\n",
            "Enter second number5\n",
            "9\n"
          ]
        }
      ]
    },
    {
      "cell_type": "markdown",
      "source": [
        "## 6. Type Conversion"
      ],
      "metadata": {
        "id": "r98u8M9S9raQ"
      }
    },
    {
      "cell_type": "code",
      "source": [
        "# Implict conversion\n",
        "print(5+5.6)\n",
        "print(type(5),type(5.6))"
      ],
      "metadata": {
        "colab": {
          "base_uri": "https://localhost:8080/"
        },
        "id": "kH5V-B6r8-sB",
        "outputId": "49bdc37b-5835-4d31-d93d-9fce2079ed0d"
      },
      "execution_count": 13,
      "outputs": [
        {
          "output_type": "stream",
          "name": "stdout",
          "text": [
            "10.6\n",
            "<class 'int'> <class 'float'>\n"
          ]
        }
      ]
    },
    {
      "cell_type": "code",
      "source": [
        "# Explict Conversion\n",
        "print(int(5.6))\n",
        "print(float(5))\n",
        "print(bool(0))"
      ],
      "metadata": {
        "colab": {
          "base_uri": "https://localhost:8080/"
        },
        "id": "WCfVf7cZ96eL",
        "outputId": "eeb1cc0d-3918-4ace-bb9e-0aceeff1d415"
      },
      "execution_count": 14,
      "outputs": [
        {
          "output_type": "stream",
          "name": "stdout",
          "text": [
            "5\n",
            "5.0\n",
            "False\n"
          ]
        }
      ]
    },
    {
      "cell_type": "markdown",
      "source": [
        "## 7. Literals"
      ],
      "metadata": {
        "id": "AmhyGFT2_HxB"
      }
    },
    {
      "cell_type": "code",
      "source": [
        "# binary literal\n",
        "print(0b101)\n",
        "\n",
        "# octal literal\n",
        "print(0o12)\n",
        "\n",
        "# hexadecimal literal\n",
        "print(0x12)\n",
        "\n",
        "# decimal literal\n",
        "print(12)\n",
        "\n",
        "#float literal\n",
        "print(1.2)\n",
        "\n",
        "# complex literal\n",
        "print(1+2j)\n",
        "\n",
        "# string literal\n",
        "print(\"Hello\")\n",
        "\n",
        "# none literal\n",
        "print(None)"
      ],
      "metadata": {
        "colab": {
          "base_uri": "https://localhost:8080/"
        },
        "id": "aWXBHNaC-Oeg",
        "outputId": "b0031687-12d9-4aa0-8458-f287a7e3ce8c"
      },
      "execution_count": 15,
      "outputs": [
        {
          "output_type": "stream",
          "name": "stdout",
          "text": [
            "5\n",
            "10\n",
            "18\n",
            "12\n",
            "1.2\n",
            "(1+2j)\n",
            "Hello\n",
            "None\n"
          ]
        }
      ]
    },
    {
      "cell_type": "code",
      "source": [],
      "metadata": {
        "id": "Vqbo3sbCAj6C"
      },
      "execution_count": null,
      "outputs": []
    }
  ]
}