{
  "nbformat": 4,
  "nbformat_minor": 0,
  "metadata": {
    "colab": {
      "provenance": [],
      "gpuType": "T4"
    },
    "kernelspec": {
      "name": "python3",
      "display_name": "Python 3"
    },
    "language_info": {
      "name": "python"
    },
    "accelerator": "GPU"
  },
  "cells": [
    {
      "cell_type": "code",
      "execution_count": null,
      "metadata": {
        "id": "SYJlyKVLBCrh"
      },
      "outputs": [],
      "source": [
        "# The current population of a town is 10000. The population of the town is increasing at the rate of 10% per year. You have to write a program to find out the population at the end of each of the last 10 years.\n"
      ]
    },
    {
      "cell_type": "code",
      "source": [
        "# x + 10% of x = 10000\n",
        "# x + 0.1x = 10000\n",
        "# 1.1x = 10000\n",
        "# x = 10000/1.1\n"
      ],
      "metadata": {
        "id": "Sc_qfeSXDj-u"
      },
      "execution_count": null,
      "outputs": []
    },
    {
      "cell_type": "code",
      "source": [
        "curr_pop = 10000\n",
        "for i in range(10,0,-1):\n",
        "    print(i,curr_pop)\n",
        "    curr_pop = curr_pop/1.1\n"
      ],
      "metadata": {
        "colab": {
          "base_uri": "https://localhost:8080/"
        },
        "id": "izQtg0FxD1NC",
        "outputId": "dccbbcc6-8fd9-4df9-d5a1-e854a437d477"
      },
      "execution_count": null,
      "outputs": [
        {
          "output_type": "stream",
          "name": "stdout",
          "text": [
            "10 10000\n",
            "9 9090.90909090909\n",
            "8 8264.462809917353\n",
            "7 7513.148009015775\n",
            "6 6830.134553650703\n",
            "5 6209.213230591548\n",
            "4 5644.739300537771\n",
            "3 5131.5811823070635\n",
            "2 4665.07380209733\n",
            "1 4240.976183724845\n"
          ]
        }
      ]
    },
    {
      "cell_type": "markdown",
      "source": [
        "## Sequence Sum\n",
        "\n",
        "1/1! + 2/2! + 3/3!.."
      ],
      "metadata": {
        "id": "Ddn8lQLDERHV"
      }
    },
    {
      "cell_type": "code",
      "source": [
        "n = int(input('enter a no.'))\n",
        "result = 0\n",
        "fact =1\n",
        "for i in range(1,n+1):\n",
        "    fact = fact * i\n",
        "    result = result + i/fact\n",
        "print(result)"
      ],
      "metadata": {
        "colab": {
          "base_uri": "https://localhost:8080/"
        },
        "id": "fKcsb8__EIy4",
        "outputId": "7161b557-e808-44cd-acb6-f2ba16ca4371"
      },
      "execution_count": null,
      "outputs": [
        {
          "output_type": "stream",
          "name": "stdout",
          "text": [
            "enter n2\n",
            "2.0\n"
          ]
        }
      ]
    },
    {
      "cell_type": "markdown",
      "source": [
        "## Nested Loops"
      ],
      "metadata": {
        "id": "Yk5gzkxkFbDg"
      }
    },
    {
      "cell_type": "code",
      "source": [
        "for i in range(1,5):\n",
        "  for j in range(1,5):\n",
        "    print(i,j)"
      ],
      "metadata": {
        "colab": {
          "base_uri": "https://localhost:8080/"
        },
        "id": "GUD2VvEoEwpE",
        "outputId": "22da1a43-0469-4fb3-9e87-6ca0293863a7"
      },
      "execution_count": null,
      "outputs": [
        {
          "output_type": "stream",
          "name": "stdout",
          "text": [
            "1 1\n",
            "1 2\n",
            "1 3\n",
            "1 4\n",
            "2 1\n",
            "2 2\n",
            "2 3\n",
            "2 4\n",
            "3 1\n",
            "3 2\n",
            "3 3\n",
            "3 4\n",
            "4 1\n",
            "4 2\n",
            "4 3\n",
            "4 4\n"
          ]
        }
      ]
    },
    {
      "cell_type": "markdown",
      "source": [
        "## Pattern 1\n",
        "\n",
        " # *\n",
        " # * *\n",
        " # * * *\n",
        "\n"
      ],
      "metadata": {
        "id": "l5ot9Y8bGFK-"
      }
    },
    {
      "cell_type": "code",
      "source": [
        "for i in range(1,4):\n",
        "  for j in range(1,i+1):\n",
        "    print('*',end=' ')\n",
        "  print()"
      ],
      "metadata": {
        "colab": {
          "base_uri": "https://localhost:8080/"
        },
        "id": "V_mKaqXGFqpL",
        "outputId": "9bf30c85-73be-4460-f269-df25b8817e62"
      },
      "execution_count": null,
      "outputs": [
        {
          "output_type": "stream",
          "name": "stdout",
          "text": [
            "* \n",
            "* * \n",
            "* * * \n"
          ]
        }
      ]
    },
    {
      "cell_type": "markdown",
      "source": [
        "## Pattern 2\n",
        "### 1\n",
        "### 121\n",
        "### 12321\n",
        "### 1234321\n"
      ],
      "metadata": {
        "id": "5b7zIadsGokm"
      }
    },
    {
      "cell_type": "code",
      "source": [
        "for i in range(1,5):\n",
        "  for j in range(1,i+1):\n",
        "    print(j,end=' ')\n",
        "  for k in range(i-1,0,-1):\n",
        "    print(k,end=' ')\n",
        "  print()\n",
        "\n",
        "\n"
      ],
      "metadata": {
        "colab": {
          "base_uri": "https://localhost:8080/"
        },
        "id": "7q1rMFIqGmvL",
        "outputId": "23c7f9a7-cb9f-4804-9db1-e9d7e7ed4b55"
      },
      "execution_count": null,
      "outputs": [
        {
          "output_type": "stream",
          "name": "stdout",
          "text": [
            "1 \n",
            "1 2 1 \n",
            "1 2 3 2 1 \n",
            "1 2 3 4 3 2 1 \n"
          ]
        }
      ]
    },
    {
      "cell_type": "markdown",
      "source": [
        "## Loop control Statement"
      ],
      "metadata": {
        "id": "1g8ZwExVJEnb"
      }
    },
    {
      "cell_type": "code",
      "source": [
        "# break\n",
        "\n",
        "for i in range(1,10):\n",
        "  if i == 5:\n",
        "    break\n",
        "  print(i)"
      ],
      "metadata": {
        "colab": {
          "base_uri": "https://localhost:8080/"
        },
        "id": "mWMiaeh-H-6U",
        "outputId": "5fd89478-22ed-4969-b6fe-a50583d0a54c"
      },
      "execution_count": null,
      "outputs": [
        {
          "output_type": "stream",
          "name": "stdout",
          "text": [
            "1\n",
            "2\n",
            "3\n",
            "4\n"
          ]
        }
      ]
    },
    {
      "cell_type": "code",
      "source": [
        "# continue\n",
        "for i in range(1,10):\n",
        "  if i == 5:\n",
        "    continue\n",
        "  print(i)"
      ],
      "metadata": {
        "colab": {
          "base_uri": "https://localhost:8080/"
        },
        "id": "tNuQZJKRJLBO",
        "outputId": "f0aa71c7-3d42-4e06-d733-f64f5302f5a5"
      },
      "execution_count": null,
      "outputs": [
        {
          "output_type": "stream",
          "name": "stdout",
          "text": [
            "1\n",
            "2\n",
            "3\n",
            "4\n",
            "6\n",
            "7\n",
            "8\n",
            "9\n"
          ]
        }
      ]
    },
    {
      "cell_type": "code",
      "source": [
        "# pass\n",
        "for i in range(1,10):\n",
        "  pass"
      ],
      "metadata": {
        "id": "EaJwqiJEJQsN"
      },
      "execution_count": null,
      "outputs": []
    },
    {
      "cell_type": "code",
      "source": [
        "lower = int(input('enter lower range'))\n",
        "upper = int(input('enter upper range'))\n",
        "\n",
        "for i in range(lower,upper+1):\n",
        "  if i > 1:\n",
        "    for j in range(2,i):\n",
        "      if i % j == 0:\n",
        "        break\n",
        "    else:\n",
        "      print(i)"
      ],
      "metadata": {
        "colab": {
          "base_uri": "https://localhost:8080/"
        },
        "id": "0B8sU4K7JUa7",
        "outputId": "5f36e743-9349-4cba-c3c4-a9d738a69647"
      },
      "execution_count": null,
      "outputs": [
        {
          "output_type": "stream",
          "name": "stdout",
          "text": [
            "enter lower range2\n",
            "enter upper range100\n",
            "2\n",
            "3\n",
            "5\n",
            "7\n",
            "11\n",
            "13\n",
            "17\n",
            "19\n",
            "23\n",
            "29\n",
            "31\n",
            "37\n",
            "41\n",
            "43\n",
            "47\n",
            "53\n",
            "59\n",
            "61\n",
            "67\n",
            "71\n",
            "73\n",
            "79\n",
            "83\n",
            "89\n",
            "97\n"
          ]
        }
      ]
    },
    {
      "cell_type": "markdown",
      "source": [
        "## Strings"
      ],
      "metadata": {
        "id": "rm8xU-KoLDSl"
      }
    },
    {
      "cell_type": "code",
      "source": [
        "# String are sequence of characters\n",
        "\n",
        "# Creating Strings\n",
        "c = 'Hello'\n",
        "print(c)"
      ],
      "metadata": {
        "colab": {
          "base_uri": "https://localhost:8080/"
        },
        "id": "0JRkXm4dJmX6",
        "outputId": "4a92fca9-3d9d-4b85-dfba-a69a92a11c3d"
      },
      "execution_count": null,
      "outputs": [
        {
          "output_type": "stream",
          "name": "stdout",
          "text": [
            "Hello\n"
          ]
        }
      ]
    },
    {
      "cell_type": "code",
      "source": [
        "# Accessing Strings\n",
        "# Indexing Concept introduced\n",
        "print(c[0])\n",
        "# Slicing Concept\n",
        "print(c[1:4])"
      ],
      "metadata": {
        "colab": {
          "base_uri": "https://localhost:8080/"
        },
        "id": "Y5vuk1r3LKh2",
        "outputId": "a3afb8fe-b194-4a7a-c26c-cf0225419fc4"
      },
      "execution_count": null,
      "outputs": [
        {
          "output_type": "stream",
          "name": "stdout",
          "text": [
            "H\n",
            "ell\n"
          ]
        }
      ]
    },
    {
      "cell_type": "code",
      "source": [
        "# Adding Chars to Strings\n",
        "c = c + 'World'\n",
        "print(c)"
      ],
      "metadata": {
        "colab": {
          "base_uri": "https://localhost:8080/"
        },
        "id": "jQZRTtqgLXdk",
        "outputId": "63ffdc79-08bf-4937-ac0c-1c3564e1d0ec"
      },
      "execution_count": null,
      "outputs": [
        {
          "output_type": "stream",
          "name": "stdout",
          "text": [
            "HelloWorld\n"
          ]
        }
      ]
    },
    {
      "cell_type": "code",
      "source": [
        "# Editing Strings\n",
        "# Strings are immutable\n",
        "# c[0] = 'X' not work\n"
      ],
      "metadata": {
        "colab": {
          "base_uri": "https://localhost:8080/",
          "height": 176
        },
        "id": "q_tY6t4lLbVQ",
        "outputId": "140797ae-d067-46a2-f37b-f7beb5b645b6"
      },
      "execution_count": null,
      "outputs": [
        {
          "output_type": "error",
          "ename": "TypeError",
          "evalue": "'str' object does not support item assignment",
          "traceback": [
            "\u001b[0;31m---------------------------------------------------------------------------\u001b[0m",
            "\u001b[0;31mTypeError\u001b[0m                                 Traceback (most recent call last)",
            "\u001b[0;32m<ipython-input-20-1e7df98c3042>\u001b[0m in \u001b[0;36m<cell line: 3>\u001b[0;34m()\u001b[0m\n\u001b[1;32m      1\u001b[0m \u001b[0;31m# Editing Strings\u001b[0m\u001b[0;34m\u001b[0m\u001b[0;34m\u001b[0m\u001b[0m\n\u001b[1;32m      2\u001b[0m \u001b[0;31m# Strings are immutable\u001b[0m\u001b[0;34m\u001b[0m\u001b[0;34m\u001b[0m\u001b[0m\n\u001b[0;32m----> 3\u001b[0;31m \u001b[0mc\u001b[0m\u001b[0;34m[\u001b[0m\u001b[0;36m0\u001b[0m\u001b[0;34m]\u001b[0m \u001b[0;34m=\u001b[0m \u001b[0;34m'X'\u001b[0m\u001b[0;34m\u001b[0m\u001b[0;34m\u001b[0m\u001b[0m\n\u001b[0m",
            "\u001b[0;31mTypeError\u001b[0m: 'str' object does not support item assignment"
          ]
        }
      ]
    },
    {
      "cell_type": "code",
      "source": [
        "# Deleting Strings\n",
        "del c"
      ],
      "metadata": {
        "id": "H6ylYKrhLhNv"
      },
      "execution_count": null,
      "outputs": []
    },
    {
      "cell_type": "markdown",
      "source": [
        "## Operations on String"
      ],
      "metadata": {
        "id": "QMHVLKGaObvB"
      }
    },
    {
      "cell_type": "code",
      "source": [
        "# Arithmetic Operations\n",
        "print('delhi' + ' ' + 'mumbai')\n",
        "print('delhi' * 3)\n",
        "\n",
        "\n",
        "\n",
        "\n",
        "\n",
        "\n",
        "\n",
        "\n",
        "\n",
        "\n"
      ],
      "metadata": {
        "colab": {
          "base_uri": "https://localhost:8080/"
        },
        "id": "dztMm_f2Lo24",
        "outputId": "37e8df84-4c8e-4fff-d48c-ccbe0cdecc9e"
      },
      "execution_count": null,
      "outputs": [
        {
          "output_type": "stream",
          "name": "stdout",
          "text": [
            "delhi mumbai\n",
            "delhidelhidelhi\n"
          ]
        }
      ]
    },
    {
      "cell_type": "code",
      "source": [
        "# Relational Operators\n",
        "print('delhi' == 'mumbai')\n",
        "print('delhi' != 'mumbai')\n",
        "print('mumbai' > 'pune')\n",
        "print('Pune' > 'pune') # Lexically they check , use ASCII value to check which one is greator\n"
      ],
      "metadata": {
        "colab": {
          "base_uri": "https://localhost:8080/"
        },
        "id": "pQhO1vYrOjTZ",
        "outputId": "0dfda7a4-bde1-4449-f8ef-5ab838383095"
      },
      "execution_count": null,
      "outputs": [
        {
          "output_type": "stream",
          "name": "stdout",
          "text": [
            "False\n",
            "True\n",
            "False\n",
            "False\n"
          ]
        }
      ]
    },
    {
      "cell_type": "code",
      "source": [
        "# Logical Operators\n",
        "print('hello' and 'world')\n",
        "print('hello' or 'world')\n",
        "print(not 'hello')"
      ],
      "metadata": {
        "colab": {
          "base_uri": "https://localhost:8080/"
        },
        "id": "TReMHrYhPXhw",
        "outputId": "ebbaaade-d01d-4b90-9f57-a708485651b3"
      },
      "execution_count": null,
      "outputs": [
        {
          "output_type": "stream",
          "name": "stdout",
          "text": [
            "world\n",
            "hello\n",
            "False\n"
          ]
        }
      ]
    },
    {
      "cell_type": "code",
      "source": [
        "# Loop Operators\n",
        "for i in 'hello':\n",
        "  print(i)"
      ],
      "metadata": {
        "colab": {
          "base_uri": "https://localhost:8080/"
        },
        "id": "gl1Ep7NAPbOc",
        "outputId": "b0fd9355-eac3-49b8-895d-a9a009e10e2f"
      },
      "execution_count": null,
      "outputs": [
        {
          "output_type": "stream",
          "name": "stdout",
          "text": [
            "h\n",
            "e\n",
            "l\n",
            "l\n",
            "o\n"
          ]
        }
      ]
    },
    {
      "cell_type": "code",
      "source": [
        "# Membership Operators\n",
        "print('d' in 'delhi')\n",
        "print('d' not in 'delhi')\n",
        "\n"
      ],
      "metadata": {
        "colab": {
          "base_uri": "https://localhost:8080/"
        },
        "id": "pi1LirdaQIKb",
        "outputId": "b6b1ff46-a79b-481c-9f46-75c456dd4356"
      },
      "execution_count": null,
      "outputs": [
        {
          "output_type": "stream",
          "name": "stdout",
          "text": [
            "True\n",
            "False\n"
          ]
        }
      ]
    },
    {
      "cell_type": "markdown",
      "source": [
        "## Common Functions"
      ],
      "metadata": {
        "id": "1VLoVndfQk2p"
      }
    },
    {
      "cell_type": "code",
      "source": [
        "# len\n",
        "len('hello world')\n",
        "\n"
      ],
      "metadata": {
        "colab": {
          "base_uri": "https://localhost:8080/"
        },
        "id": "08rOltHuQL8h",
        "outputId": "0b282fd7-6d05-4c81-95f9-9cee3e944a75"
      },
      "execution_count": null,
      "outputs": [
        {
          "output_type": "execute_result",
          "data": {
            "text/plain": [
              "11"
            ]
          },
          "metadata": {},
          "execution_count": 32
        }
      ]
    },
    {
      "cell_type": "code",
      "source": [
        "# max\n",
        "max('hello world')\n"
      ],
      "metadata": {
        "colab": {
          "base_uri": "https://localhost:8080/",
          "height": 35
        },
        "id": "6SE4IRTlQq-8",
        "outputId": "8b77a2de-3243-4fa3-d3c0-a5ad6d9d735f"
      },
      "execution_count": null,
      "outputs": [
        {
          "output_type": "execute_result",
          "data": {
            "text/plain": [
              "'w'"
            ],
            "application/vnd.google.colaboratory.intrinsic+json": {
              "type": "string"
            }
          },
          "metadata": {},
          "execution_count": 33
        }
      ]
    },
    {
      "cell_type": "code",
      "source": [
        "# min\n",
        "min('hello world')\n"
      ],
      "metadata": {
        "colab": {
          "base_uri": "https://localhost:8080/",
          "height": 35
        },
        "id": "a3U_yMP_Qt0R",
        "outputId": "dcb463f7-cd62-4589-eb39-f2785e6fbe1d"
      },
      "execution_count": null,
      "outputs": [
        {
          "output_type": "execute_result",
          "data": {
            "text/plain": [
              "' '"
            ],
            "application/vnd.google.colaboratory.intrinsic+json": {
              "type": "string"
            }
          },
          "metadata": {},
          "execution_count": 34
        }
      ]
    },
    {
      "cell_type": "code",
      "source": [
        "# sorted\n",
        "sorted('hello world',reverse=True)"
      ],
      "metadata": {
        "colab": {
          "base_uri": "https://localhost:8080/"
        },
        "id": "48nZnHCTQw20",
        "outputId": "4ad5958c-aba7-4945-f596-394ad90b6f50"
      },
      "execution_count": null,
      "outputs": [
        {
          "output_type": "execute_result",
          "data": {
            "text/plain": [
              "['w', 'r', 'o', 'o', 'l', 'l', 'l', 'h', 'e', 'd', ' ']"
            ]
          },
          "metadata": {},
          "execution_count": 35
        }
      ]
    },
    {
      "cell_type": "code",
      "source": [
        "# Capatalize\n",
        "'hello world'.capitalize()\n",
        "\n"
      ],
      "metadata": {
        "colab": {
          "base_uri": "https://localhost:8080/",
          "height": 35
        },
        "id": "wRZXkgg3QywL",
        "outputId": "d5234863-3dea-4a85-9869-ef5356b49c74"
      },
      "execution_count": null,
      "outputs": [
        {
          "output_type": "execute_result",
          "data": {
            "text/plain": [
              "'Hello world'"
            ],
            "application/vnd.google.colaboratory.intrinsic+json": {
              "type": "string"
            }
          },
          "metadata": {},
          "execution_count": 36
        }
      ]
    },
    {
      "cell_type": "code",
      "source": [
        "# Title\n",
        "'hello world'.title()"
      ],
      "metadata": {
        "colab": {
          "base_uri": "https://localhost:8080/",
          "height": 35
        },
        "id": "_Jt4JuJsRlWq",
        "outputId": "ce651275-489b-4d6f-b47f-b468d71d0e56"
      },
      "execution_count": null,
      "outputs": [
        {
          "output_type": "execute_result",
          "data": {
            "text/plain": [
              "'Hello World'"
            ],
            "application/vnd.google.colaboratory.intrinsic+json": {
              "type": "string"
            }
          },
          "metadata": {},
          "execution_count": 37
        }
      ]
    },
    {
      "cell_type": "code",
      "source": [
        "# Upper\n",
        "'hello world'.upper()"
      ],
      "metadata": {
        "colab": {
          "base_uri": "https://localhost:8080/",
          "height": 35
        },
        "id": "ZOCu4A4NRxlP",
        "outputId": "a1f126f2-62ac-478e-cb2e-eda5d6203d55"
      },
      "execution_count": null,
      "outputs": [
        {
          "output_type": "execute_result",
          "data": {
            "text/plain": [
              "'HELLO WORLD'"
            ],
            "application/vnd.google.colaboratory.intrinsic+json": {
              "type": "string"
            }
          },
          "metadata": {},
          "execution_count": 38
        }
      ]
    },
    {
      "cell_type": "code",
      "source": [
        "# lOWER\n",
        "'HELLO WORLD'.lower()\n"
      ],
      "metadata": {
        "colab": {
          "base_uri": "https://localhost:8080/",
          "height": 35
        },
        "id": "FvAyae3rR0a4",
        "outputId": "8edabae7-dc7b-4815-9f73-961af01bf80a"
      },
      "execution_count": null,
      "outputs": [
        {
          "output_type": "execute_result",
          "data": {
            "text/plain": [
              "'hello world'"
            ],
            "application/vnd.google.colaboratory.intrinsic+json": {
              "type": "string"
            }
          },
          "metadata": {},
          "execution_count": 39
        }
      ]
    },
    {
      "cell_type": "code",
      "source": [
        "# SWAPCASE\n",
        "'HeLlO WoRlD'.swapcase()"
      ],
      "metadata": {
        "colab": {
          "base_uri": "https://localhost:8080/",
          "height": 35
        },
        "id": "FElZHdENR3fC",
        "outputId": "6260bd26-dbea-457c-d1e6-c96693246efb"
      },
      "execution_count": null,
      "outputs": [
        {
          "output_type": "execute_result",
          "data": {
            "text/plain": [
              "'hElLo wOrLd'"
            ],
            "application/vnd.google.colaboratory.intrinsic+json": {
              "type": "string"
            }
          },
          "metadata": {},
          "execution_count": 41
        }
      ]
    },
    {
      "cell_type": "code",
      "source": [
        "# count\n",
        "'it is raining'.count('i')\n"
      ],
      "metadata": {
        "colab": {
          "base_uri": "https://localhost:8080/"
        },
        "id": "8Z7v919cR52a",
        "outputId": "68007350-2cb6-4d4b-96d2-3d29270ecdfa"
      },
      "execution_count": null,
      "outputs": [
        {
          "output_type": "execute_result",
          "data": {
            "text/plain": [
              "4"
            ]
          },
          "metadata": {},
          "execution_count": 42
        }
      ]
    },
    {
      "cell_type": "code",
      "source": [
        "# find\n",
        "'it is raining'.find('i')"
      ],
      "metadata": {
        "colab": {
          "base_uri": "https://localhost:8080/"
        },
        "id": "8uD6ueYpSd3D",
        "outputId": "5fd3474d-6895-462d-c4b4-bbf7aa340c6e"
      },
      "execution_count": null,
      "outputs": [
        {
          "output_type": "execute_result",
          "data": {
            "text/plain": [
              "0"
            ]
          },
          "metadata": {},
          "execution_count": 43
        }
      ]
    },
    {
      "cell_type": "code",
      "source": [
        "# Index\n",
        "'it is raining'.index('i')"
      ],
      "metadata": {
        "colab": {
          "base_uri": "https://localhost:8080/"
        },
        "id": "Z_hwOAn3Sfpb",
        "outputId": "7e6b6284-fdb1-4dc7-dcf7-ac792fa7c82e"
      },
      "execution_count": null,
      "outputs": [
        {
          "output_type": "execute_result",
          "data": {
            "text/plain": [
              "0"
            ]
          },
          "metadata": {},
          "execution_count": 44
        }
      ]
    },
    {
      "cell_type": "code",
      "source": [
        "# endswith\n",
        "'it is raining'.endswith('g')\n"
      ],
      "metadata": {
        "colab": {
          "base_uri": "https://localhost:8080/"
        },
        "id": "uPI8-sBhShaT",
        "outputId": "58c2faa8-5207-4153-ae8c-aea4c7df68ab"
      },
      "execution_count": null,
      "outputs": [
        {
          "output_type": "execute_result",
          "data": {
            "text/plain": [
              "True"
            ]
          },
          "metadata": {},
          "execution_count": 45
        }
      ]
    },
    {
      "cell_type": "code",
      "source": [
        "# startswith\n",
        "'it is raining'.startswith('i')\n"
      ],
      "metadata": {
        "colab": {
          "base_uri": "https://localhost:8080/"
        },
        "id": "lZF-3mr1TCnK",
        "outputId": "955efe64-1e96-40f5-979f-00f64f1c7fc5"
      },
      "execution_count": null,
      "outputs": [
        {
          "output_type": "execute_result",
          "data": {
            "text/plain": [
              "True"
            ]
          },
          "metadata": {},
          "execution_count": 47
        }
      ]
    },
    {
      "cell_type": "code",
      "source": [
        "# format\n",
        "\n",
        "name = 'samar'\n",
        "'Hi my name is {}'.format(name)\n",
        "\n",
        "\n",
        "\n",
        "\n",
        "\n"
      ],
      "metadata": {
        "colab": {
          "base_uri": "https://localhost:8080/",
          "height": 35
        },
        "id": "ZUITtfR3TEO4",
        "outputId": "99cb8622-943f-4386-bcb1-1c5a4e8adfea"
      },
      "execution_count": null,
      "outputs": [
        {
          "output_type": "execute_result",
          "data": {
            "text/plain": [
              "'Hi my name is samar'"
            ],
            "application/vnd.google.colaboratory.intrinsic+json": {
              "type": "string"
            }
          },
          "metadata": {},
          "execution_count": 48
        }
      ]
    },
    {
      "cell_type": "code",
      "source": [
        "# isalnum\n",
        "'hello123'.isalnum()"
      ],
      "metadata": {
        "colab": {
          "base_uri": "https://localhost:8080/"
        },
        "id": "x1b0RHaKTxEf",
        "outputId": "d4d6e1b6-6f34-4a24-de22-2af53db14a35"
      },
      "execution_count": null,
      "outputs": [
        {
          "output_type": "execute_result",
          "data": {
            "text/plain": [
              "True"
            ]
          },
          "metadata": {},
          "execution_count": 50
        }
      ]
    },
    {
      "cell_type": "code",
      "source": [
        "# isalpha\n",
        "'hello'.isalpha()\n"
      ],
      "metadata": {
        "colab": {
          "base_uri": "https://localhost:8080/"
        },
        "id": "VKNnfJ3-T9uO",
        "outputId": "4fee5e80-d61c-41c8-db3c-77ca04947a4f"
      },
      "execution_count": null,
      "outputs": [
        {
          "output_type": "execute_result",
          "data": {
            "text/plain": [
              "True"
            ]
          },
          "metadata": {},
          "execution_count": 51
        }
      ]
    },
    {
      "cell_type": "code",
      "source": [
        "# isdigit\n",
        "'123'.isdigit()"
      ],
      "metadata": {
        "colab": {
          "base_uri": "https://localhost:8080/"
        },
        "id": "AK4f-LIgULPy",
        "outputId": "77803016-a742-4d7c-e3ec-be0ad9452c04"
      },
      "execution_count": null,
      "outputs": [
        {
          "output_type": "execute_result",
          "data": {
            "text/plain": [
              "True"
            ]
          },
          "metadata": {},
          "execution_count": 52
        }
      ]
    },
    {
      "cell_type": "code",
      "source": [
        "# isidentifier\n",
        "'hello_world'.isidentifier()"
      ],
      "metadata": {
        "colab": {
          "base_uri": "https://localhost:8080/"
        },
        "id": "0wILiwxXUO6O",
        "outputId": "86dd335e-7fd7-4e72-99b6-78a6454f17ae"
      },
      "execution_count": null,
      "outputs": [
        {
          "output_type": "execute_result",
          "data": {
            "text/plain": [
              "True"
            ]
          },
          "metadata": {},
          "execution_count": 53
        }
      ]
    },
    {
      "cell_type": "code",
      "source": [
        "# split\n",
        "'who is the pm of india'.split(' ')"
      ],
      "metadata": {
        "colab": {
          "base_uri": "https://localhost:8080/"
        },
        "id": "lU12dm54UT5S",
        "outputId": "95b204b4-d32f-49fb-8d9f-03c53f2f6bec"
      },
      "execution_count": null,
      "outputs": [
        {
          "output_type": "execute_result",
          "data": {
            "text/plain": [
              "['who', 'is', 'the', 'pm', 'of', 'india']"
            ]
          },
          "metadata": {},
          "execution_count": 54
        }
      ]
    },
    {
      "cell_type": "code",
      "source": [
        "# join\n",
        "' '.join(['who', 'is', 'the', 'pm', 'of', 'india'])\n"
      ],
      "metadata": {
        "colab": {
          "base_uri": "https://localhost:8080/",
          "height": 35
        },
        "id": "CwEO8cY4UwBk",
        "outputId": "fe6ed38a-b511-4eae-f86e-48a653be234e"
      },
      "execution_count": null,
      "outputs": [
        {
          "output_type": "execute_result",
          "data": {
            "text/plain": [
              "'who is the pm of india'"
            ],
            "application/vnd.google.colaboratory.intrinsic+json": {
              "type": "string"
            }
          },
          "metadata": {},
          "execution_count": 55
        }
      ]
    },
    {
      "cell_type": "code",
      "source": [
        "# Replace\n",
        "'hi my name is samar'.replace('samar','rahul')"
      ],
      "metadata": {
        "colab": {
          "base_uri": "https://localhost:8080/",
          "height": 35
        },
        "id": "LzZO71e6UydV",
        "outputId": "06ac0dcf-9148-4f12-da5c-3c066d32ee05"
      },
      "execution_count": null,
      "outputs": [
        {
          "output_type": "execute_result",
          "data": {
            "text/plain": [
              "'hi my name is rahul'"
            ],
            "application/vnd.google.colaboratory.intrinsic+json": {
              "type": "string"
            }
          },
          "metadata": {},
          "execution_count": 56
        }
      ]
    },
    {
      "cell_type": "code",
      "source": [
        " # Strip\n",
        "'hi my name is samar'.strip('hi')\n"
      ],
      "metadata": {
        "colab": {
          "base_uri": "https://localhost:8080/",
          "height": 35
        },
        "id": "O-GWrcIRU1vN",
        "outputId": "b37fa126-0715-4a67-e0d6-69a64536f934"
      },
      "execution_count": null,
      "outputs": [
        {
          "output_type": "execute_result",
          "data": {
            "text/plain": [
              "' my name is samar'"
            ],
            "application/vnd.google.colaboratory.intrinsic+json": {
              "type": "string"
            }
          },
          "metadata": {},
          "execution_count": 57
        }
      ]
    },
    {
      "cell_type": "code",
      "source": [
        "# Find the length of the string without using the len() function\n",
        "\n",
        "\n",
        "s = \"abcde\"\n",
        "cnt = 0\n",
        "\n",
        "for i in s:\n",
        "  cnt+=1\n",
        "\n",
        "print(s)"
      ],
      "metadata": {
        "id": "ELk1wP08VOA9",
        "colab": {
          "base_uri": "https://localhost:8080/"
        },
        "outputId": "6bd343c3-37ed-40b1-d308-25a6e6eb383f"
      },
      "execution_count": 2,
      "outputs": [
        {
          "output_type": "stream",
          "name": "stdout",
          "text": [
            "abcde\n"
          ]
        }
      ]
    },
    {
      "cell_type": "code",
      "source": [
        "# Extract the username from a given email\n",
        "\n",
        "email = \"nitish24singh@gmail.com\"\n",
        "user_name = email.strip(\"@gmail.com\")\n",
        "user_name"
      ],
      "metadata": {
        "colab": {
          "base_uri": "https://localhost:8080/",
          "height": 35
        },
        "id": "XXRqWbXc0G0r",
        "outputId": "5de509c7-0977-4eb1-a94c-2dd861eacec2"
      },
      "execution_count": 4,
      "outputs": [
        {
          "output_type": "execute_result",
          "data": {
            "text/plain": [
              "'nitish24singh'"
            ],
            "application/vnd.google.colaboratory.intrinsic+json": {
              "type": "string"
            }
          },
          "metadata": {},
          "execution_count": 4
        }
      ]
    },
    {
      "cell_type": "code",
      "source": [
        "# count the frequency of a particula character in a provided string\n",
        "\n",
        "s = \"hello how are you \"\n",
        "term = input(\"what you search\")\n",
        "\n",
        "cnt = 0\n",
        "for i in s:\n",
        "  if i==term:\n",
        "    cnt+=1\n",
        "\n",
        "cnt"
      ],
      "metadata": {
        "colab": {
          "base_uri": "https://localhost:8080/"
        },
        "id": "8bwz7vb10dNS",
        "outputId": "6ddd328f-c030-4c79-a4c9-8b143b77213d"
      },
      "execution_count": 8,
      "outputs": [
        {
          "name": "stdout",
          "output_type": "stream",
          "text": [
            "what you searchhi\n"
          ]
        },
        {
          "output_type": "execute_result",
          "data": {
            "text/plain": [
              "0"
            ]
          },
          "metadata": {},
          "execution_count": 8
        }
      ]
    },
    {
      "cell_type": "code",
      "source": [
        "# Write a program which can remove a particular character from a string\n",
        "\n",
        "s = input(\"enter a string\")\n",
        "term = input(\"what would you like to remove\")\n",
        "\n",
        "s=list(s)\n",
        "s.remove(term)\n",
        "s=\"\".join(s)\n",
        "s"
      ],
      "metadata": {
        "colab": {
          "base_uri": "https://localhost:8080/",
          "height": 70
        },
        "id": "1gWtvkok1G5S",
        "outputId": "b01c1b35-d235-4eab-eab9-a7ec6873e803"
      },
      "execution_count": 12,
      "outputs": [
        {
          "name": "stdout",
          "output_type": "stream",
          "text": [
            "enter a stringrandy\n",
            "what would you like to remover\n"
          ]
        },
        {
          "output_type": "execute_result",
          "data": {
            "text/plain": [
              "'andy'"
            ],
            "application/vnd.google.colaboratory.intrinsic+json": {
              "type": "string"
            }
          },
          "metadata": {},
          "execution_count": 12
        }
      ]
    },
    {
      "cell_type": "code",
      "source": [
        "# Write a program to check string is palindrome or not\n",
        "\n",
        "s=input(\"enter a string\")\n",
        "\n",
        "i =0\n",
        "j=len(s)-1\n",
        "flag = True\n",
        "\n",
        "while(i<j):\n",
        "  if s[i]!=s[j]:\n",
        "    flag = False\n",
        "    break\n",
        "  else:\n",
        "    i+=1\n",
        "    j-=1\n",
        "if flag == False:\n",
        "  print(\"not palindrome\")\n",
        "else:\n",
        "  print(\"Palindrome\")\n"
      ],
      "metadata": {
        "colab": {
          "base_uri": "https://localhost:8080/"
        },
        "id": "UMsp6fuM1eaL",
        "outputId": "77697e1e-c620-42c9-d0a3-b42c0982028e"
      },
      "execution_count": 3,
      "outputs": [
        {
          "output_type": "stream",
          "name": "stdout",
          "text": [
            "enter a stringmalyalam\n",
            "not palindrome\n"
          ]
        }
      ]
    },
    {
      "cell_type": "code",
      "source": [
        "# Write a python program to count the no. of words in a string without using split()\n",
        "\n",
        "s = \"hi how are you\"\n",
        "temp = \" \"\n",
        "res = \"\"\n",
        "if s!=\"\":\n",
        "  cnt = 1\n",
        "else:\n",
        "  cnt = 0\n",
        "\n",
        "for i in s:\n",
        "  if i!=temp:\n",
        "    res+=i\n",
        "  else:\n",
        "    cnt+=1\n",
        "    res=\"\"\n",
        "\n",
        "\n",
        "print(cnt)\n",
        "\n",
        "\n",
        "\n",
        "\n"
      ],
      "metadata": {
        "colab": {
          "base_uri": "https://localhost:8080/"
        },
        "id": "gyQB_yK72nKw",
        "outputId": "492858db-54c1-408b-e630-c31c40edf3c5"
      },
      "execution_count": 7,
      "outputs": [
        {
          "output_type": "stream",
          "name": "stdout",
          "text": [
            "4\n"
          ]
        }
      ]
    },
    {
      "cell_type": "code",
      "source": [
        "# Write a python program to convert a string title case without using the title()\n",
        "\n",
        "s = input(\"enter a string\")\n",
        "L=[]\n",
        "\n",
        "for i in s.split():\n",
        "  L.append(i[0].upper()+i[1:].lower())\n",
        "\n",
        "s=\" \".join(L)\n",
        "\n",
        "print(s)\n"
      ],
      "metadata": {
        "colab": {
          "base_uri": "https://localhost:8080/"
        },
        "id": "sus9J3NZ39j5",
        "outputId": "9bce414f-e410-441d-e66d-99f839770cec"
      },
      "execution_count": 8,
      "outputs": [
        {
          "output_type": "stream",
          "name": "stdout",
          "text": [
            "enter a stringhi how are ypu\n",
            "Hi How Are Ypu\n"
          ]
        }
      ]
    },
    {
      "cell_type": "code",
      "source": [
        "# Write a program that can convert an integer to string\n",
        "\n",
        "number = int(input(\"enter a number\"))\n",
        "digits = \"0123456789\"\n",
        "result = \"\"\n",
        "\n",
        "while number!=0:\n",
        "  result = digits[number%10] + result\n",
        "  number=number//10\n",
        "\n",
        "print(result)\n",
        "print(type(result))"
      ],
      "metadata": {
        "colab": {
          "base_uri": "https://localhost:8080/"
        },
        "id": "rO4Ts9Rx6ZSk",
        "outputId": "ce9eb382-216b-421e-af1e-b2f4a51a1af5"
      },
      "execution_count": 15,
      "outputs": [
        {
          "output_type": "stream",
          "name": "stdout",
          "text": [
            "enter a number478\n",
            "478\n",
            "<class 'str'>\n"
          ]
        }
      ]
    },
    {
      "cell_type": "code",
      "source": [],
      "metadata": {
        "id": "LMPtz0mZ7Ak8"
      },
      "execution_count": null,
      "outputs": []
    }
  ]
}